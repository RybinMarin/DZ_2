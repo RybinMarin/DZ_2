{
 "cells": [
  {
   "cell_type": "code",
   "execution_count": 27,
   "metadata": {},
   "outputs": [
    {
     "name": "stdout",
     "output_type": "stream",
     "text": [
      "введите словоtesting\n",
      "t\n"
     ]
    }
   ],
   "source": [
    "# Задание 1\n",
    "word = input('введите слово')\n",
    "b = len(word)\n",
    "good_b = b/2\n",
    "\n",
    "if b % 2 == 0:\n",
    "    print (word [int(good_b)-1:int(good_b)+1:])\n",
    "elif b % 2 != 0:\n",
    "    print (word [int(good_b)])\n",
    "    "
   ]
  },
  {
   "cell_type": "code",
   "execution_count": null,
   "metadata": {},
   "outputs": [],
   "source": [
    "# Задание 2\n",
    "a = int (input())\n",
    "sum = 0\n",
    "kol = 0\n",
    "while a != 0:\n",
    "    sum += a\n",
    "    kol += 1\n",
    "    a = int (input())\n",
    "\n",
    "print (sum)"
   ]
  },
  {
   "cell_type": "code",
   "execution_count": null,
   "metadata": {},
   "outputs": [],
   "source": [
    "# Задание 3\n",
    "\n",
    "boys = ['Peter', 'Alex', 'John', 'Arthur', 'Richard', 'Michael']\n",
    "girls = ['Kate', 'Liza', 'Kira', 'Emma', 'Trisha']\n",
    "if len(boys) == len(girls):\n",
    "    print('Идеальная пара:')\n",
    "    boys.sort()\n",
    "    girls.sort()\n",
    "    dating = zip (boys, girls)\n",
    "    for company in dating :\n",
    "        print(f\"({company [0]} и {company [1]})\")\n",
    "else:\n",
    "    \n",
    "    print('Внимание, кто-то может остаться без пары!')"
   ]
  },
  {
   "cell_type": "code",
   "execution_count": null,
   "metadata": {},
   "outputs": [],
   "source": [
    "# Задание 4\n",
    "\n",
    "countries_temperature = [ \n",
    "    ['Thailand', [75.2, 77, 78.8, 73.4, 68, 75.2, 77]],\n",
    "    ['Germany', [57.2, 55.4, 59, 59, 53.6]],\n",
    "    ['Russia', [35.6, 37.4, 39.2, 41, 42.8, 39.2, 35.6]],\n",
    "    ['Poland', [50, 50, 53.6, 57.2, 55.4, 55.4]]\n",
    "]\n",
    "total = 0.0;\n",
    "cels = 0.0;\n",
    "avg = 0.0;\n",
    "for country in countries_temperature:\n",
    "    total = sum (country[1])\n",
    "    avg = total/len(country[1])\n",
    "    cels = (avg - 32)*5/9;\n",
    "    print(country[0], '-', round(cels, 1), 'C')"
   ]
  },
  {
   "cell_type": "code",
   "execution_count": null,
   "metadata": {},
   "outputs": [],
   "source": []
  }
 ],
 "metadata": {
  "kernelspec": {
   "display_name": "Python 3",
   "language": "python",
   "name": "python3"
  },
  "language_info": {
   "codemirror_mode": {
    "name": "ipython",
    "version": 3
   },
   "file_extension": ".py",
   "mimetype": "text/x-python",
   "name": "python",
   "nbconvert_exporter": "python",
   "pygments_lexer": "ipython3",
   "version": "3.8.5"
  }
 },
 "nbformat": 4,
 "nbformat_minor": 4
}
